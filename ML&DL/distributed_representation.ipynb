{
 "cells": [
  {
   "cell_type": "code",
   "execution_count": 12,
   "id": "6d5676c0",
   "metadata": {},
   "outputs": [
    {
     "name": "stderr",
     "output_type": "stream",
     "text": [
      "[nltk_data] Downloading package wordnet to\n",
      "[nltk_data]     /home/dksdudgn00/nltk_data...\n",
      "[nltk_data]   Package wordnet is already up-to-date!\n",
      "[nltk_data] Downloading package omw-1.4 to\n",
      "[nltk_data]     /home/dksdudgn00/nltk_data...\n",
      "[nltk_data]   Unzipping corpora/omw-1.4.zip.\n"
     ]
    },
    {
     "data": {
      "text/plain": [
       "True"
      ]
     },
     "execution_count": 12,
     "metadata": {},
     "output_type": "execute_result"
    }
   ],
   "source": [
    "import nltk\n",
    "from nltk.corpus import wordnet\n",
    "nltk.download('wordnet')\n",
    "nltk.download('omw-1.4')"
   ]
  },
  {
   "cell_type": "code",
   "execution_count": 13,
   "id": "7c1b70af",
   "metadata": {},
   "outputs": [
    {
     "data": {
      "text/plain": [
       "[Synset('car.n.01'),\n",
       " Synset('car.n.02'),\n",
       " Synset('car.n.03'),\n",
       " Synset('car.n.04'),\n",
       " Synset('cable_car.n.01')]"
      ]
     },
     "execution_count": 13,
     "metadata": {},
     "output_type": "execute_result"
    }
   ],
   "source": [
    "wordnet.synsets('car') #[Synset('car.n.01'),\n",
    "                       #Synset('car.n.02'),\n",
    "                       # Synset('car.n.03'),\n",
    "                       # Synset('car.n.04'),\n",
    "                       # Synset('cable_car.n.01')]"
   ]
  },
  {
   "cell_type": "code",
   "execution_count": 14,
   "id": "71a4400b",
   "metadata": {},
   "outputs": [
    {
     "data": {
      "text/plain": [
       "'a motor vehicle with four wheels; usually propelled by an internal combustion engine'"
      ]
     },
     "execution_count": 14,
     "metadata": {},
     "output_type": "execute_result"
    }
   ],
   "source": [
    "car = wordnet.synset('car.n.01') \n",
    "car.definition() #'a motor vehicle with four wheels; usually propelled by an internal combustion engine'"
   ]
  },
  {
   "cell_type": "code",
   "execution_count": 15,
   "id": "b4cd19cc",
   "metadata": {},
   "outputs": [
    {
     "data": {
      "text/plain": [
       "['car', 'auto', 'automobile', 'machine', 'motorcar']"
      ]
     },
     "execution_count": 15,
     "metadata": {},
     "output_type": "execute_result"
    }
   ],
   "source": [
    "car.lemma_names() #['car', 'auto', 'automobile', 'machine', 'motorcar']"
   ]
  },
  {
   "cell_type": "code",
   "execution_count": 16,
   "id": "a9489b24",
   "metadata": {},
   "outputs": [
    {
     "data": {
      "text/plain": [
       "[[Synset('entity.n.01'),\n",
       "  Synset('physical_entity.n.01'),\n",
       "  Synset('object.n.01'),\n",
       "  Synset('whole.n.02'),\n",
       "  Synset('artifact.n.01'),\n",
       "  Synset('instrumentality.n.03'),\n",
       "  Synset('container.n.01'),\n",
       "  Synset('wheeled_vehicle.n.01'),\n",
       "  Synset('self-propelled_vehicle.n.01'),\n",
       "  Synset('motor_vehicle.n.01'),\n",
       "  Synset('car.n.01')],\n",
       " [Synset('entity.n.01'),\n",
       "  Synset('physical_entity.n.01'),\n",
       "  Synset('object.n.01'),\n",
       "  Synset('whole.n.02'),\n",
       "  Synset('artifact.n.01'),\n",
       "  Synset('instrumentality.n.03'),\n",
       "  Synset('conveyance.n.03'),\n",
       "  Synset('vehicle.n.01'),\n",
       "  Synset('wheeled_vehicle.n.01'),\n",
       "  Synset('self-propelled_vehicle.n.01'),\n",
       "  Synset('motor_vehicle.n.01'),\n",
       "  Synset('car.n.01')]]"
      ]
     },
     "execution_count": 16,
     "metadata": {},
     "output_type": "execute_result"
    }
   ],
   "source": [
    "car.hypernym_paths() # 추상적인 내용부터 내려가며 점점 구체화된 단어의 의미로 나타남"
   ]
  },
  {
   "cell_type": "code",
   "execution_count": 20,
   "id": "a1141b31",
   "metadata": {},
   "outputs": [
    {
     "name": "stdout",
     "output_type": "stream",
     "text": [
      "0.05555555555555555\n",
      "0.07692307692307693\n"
     ]
    },
    {
     "data": {
      "text/plain": [
       "0.3333333333333333"
      ]
     },
     "execution_count": 20,
     "metadata": {},
     "output_type": "execute_result"
    }
   ],
   "source": [
    "# 단어간 의미 유사도\n",
    "car = wordnet.synset('car.n.01') # 자동차\n",
    "novel = wordnet.synset('novel.n.01') # 소설 \n",
    "dog = wordnet.synset('dog.n.01') # 개\n",
    "motorcycle = wordnet.synset('motorcycle.n.01')\n",
    "print(car.path_similarity(novel)) # 0.0555555555555\n",
    "print(car.path_similarity(dog)) # 0.0769230769\n",
    "car.path_similarity(motorcycle) # 0.33333333333333333\n",
    "# 1에 가까울 수록 유사도 높다.\n"
   ]
  },
  {
   "cell_type": "code",
   "execution_count": 2,
   "id": "1c502b01",
   "metadata": {},
   "outputs": [
    {
     "data": {
      "text/plain": [
       "'you say goodbye and i say hello .'"
      ]
     },
     "execution_count": 2,
     "metadata": {},
     "output_type": "execute_result"
    }
   ],
   "source": [
    "text = 'You say goodbye and I say hello.'\n",
    "text = text.lower()\n",
    "text = text.replace('.', ' .')\n",
    "text"
   ]
  },
  {
   "cell_type": "code",
   "execution_count": 3,
   "id": "57d8a9fd",
   "metadata": {},
   "outputs": [
    {
     "data": {
      "text/plain": [
       "['you', 'say', 'goodbye', 'and', 'i', 'say', 'hello', '.']"
      ]
     },
     "execution_count": 3,
     "metadata": {},
     "output_type": "execute_result"
    }
   ],
   "source": [
    "words = text.split(' ')\n",
    "words"
   ]
  },
  {
   "cell_type": "code",
   "execution_count": 4,
   "id": "0fd6dfa6",
   "metadata": {},
   "outputs": [
    {
     "name": "stdout",
     "output_type": "stream",
     "text": [
      "{0: 'you', 1: 'say', 2: 'goodbye', 3: 'and', 4: 'i', 5: 'hello', 6: '.'}\n"
     ]
    },
    {
     "data": {
      "text/plain": [
       "{'you': 0, 'say': 1, 'goodbye': 2, 'and': 3, 'i': 4, 'hello': 5, '.': 6}"
      ]
     },
     "execution_count": 4,
     "metadata": {},
     "output_type": "execute_result"
    }
   ],
   "source": [
    "word_to_id = {}\n",
    "id_to_word = {}\n",
    "for word in words:\n",
    "    if word not in word_to_id:\n",
    "        new_id = len(word_to_id)\n",
    "        word_to_id[word] = new_id\n",
    "        id_to_word[new_id] = word\n",
    "print(id_to_word)\n",
    "word_to_id"
   ]
  },
  {
   "cell_type": "code",
   "execution_count": 5,
   "id": "11d3b7a3",
   "metadata": {},
   "outputs": [
    {
     "name": "stdout",
     "output_type": "stream",
     "text": [
      "say\n"
     ]
    },
    {
     "data": {
      "text/plain": [
       "5"
      ]
     },
     "execution_count": 5,
     "metadata": {},
     "output_type": "execute_result"
    }
   ],
   "source": [
    "print(id_to_word[1])\n",
    "word_to_id['hello']"
   ]
  },
  {
   "cell_type": "code",
   "execution_count": 7,
   "id": "e6de8f89",
   "metadata": {},
   "outputs": [
    {
     "data": {
      "text/plain": [
       "array([0, 1, 2, 3, 4, 1, 5, 6])"
      ]
     },
     "execution_count": 7,
     "metadata": {},
     "output_type": "execute_result"
    }
   ],
   "source": [
    "import numpy as np\n",
    "corpus = [word_to_id[w] for w in words]\n",
    "corpus = np.array(corpus)\n",
    "corpus"
   ]
  },
  {
   "cell_type": "code",
   "execution_count": 9,
   "id": "3f1d39f8",
   "metadata": {},
   "outputs": [
    {
     "name": "stdout",
     "output_type": "stream",
     "text": [
      "corpus: [0 1 2 3 4 1 5 6]\n",
      "word_to_id: {'your': 0, 'say': 1, 'goodbye': 2, 'and': 3, 'i': 4, 'hello': 5, '.': 6}\n",
      "id_to_word: {0: 'your', 1: 'say', 2: 'goodbye', 3: 'and', 4: 'i', 5: 'hello', 6: '.'}\n"
     ]
    }
   ],
   "source": [
    "# corpus proprecessing을 위한 함수 구현\n",
    "def preprocess(text):\n",
    "    text = text.lower() # 모두 소문자로 변환\n",
    "    text = text.replace('.', ' .') # 마침표로 구분하되, 마지막 문장을 고려하여 공백+'.'을 추가, 이는 정규표현식을 이용하여 더 간단하게 가능\n",
    "    words = text.split(' ') # 분리한 문장을 단어로 리스트화 한다.\n",
    "    word_to_id = {} # key값으로 단어를, value로 순서(숫자)를 부여\n",
    "    id_to_word = {} # word_to_id와 반대\n",
    "    for word in words:\n",
    "        if word not in word_to_id: # 0부터 시작\n",
    "            new_id = len(word_to_id)\n",
    "            word_to_id[word] = new_id # 첫 번째 단어부터 0,1,2... 순서 부여\n",
    "            id_to_word[new_id] = word # word_to_id와 반대로 0,1,2...에 단어들을 순서대로 value로 넣는다\n",
    "            \n",
    "    corpus = np.array([word_to_id[w] for w in words]) # 단어 목록을 넘파이 배열로 변환\n",
    "    return corpus, word_to_id, id_to_word\n",
    "text = \"Your say goodbye and I say hello.\"\n",
    "corpus, word_to_id, id_to_word = preprocess(text)\n",
    "print(f\"corpus: {corpus}\") # corpus: [0 1 2 3 4 1 5 6]\n",
    "print(f\"word_to_id: {word_to_id}\") # word_to_id: {'your': 0, 'say': 1, 'goodbye': 2, 'and': 3, 'i': 4, 'hello': 5, '.': 6}\n",
    "print(f\"id_to_word: {id_to_word}\") # id_to_word: {0: 'your', 1: 'say', 2: 'goodbye', 3: 'and', 4: 'i', 5: 'hello', 6: '.'}"
   ]
  },
  {
   "cell_type": "code",
   "execution_count": 17,
   "id": "5bfef44e",
   "metadata": {},
   "outputs": [],
   "source": [
    "# 동시발생 행렬 자동화 함수\n",
    "def create_co_matrix(corpus, vocab_size, window_size=1):\n",
    "    corpus_size = len(corpus) \n",
    "    co_matrix = np.zeros((vocab_size, vocab_size), dtype=np.int32) # matrix 초기화\n",
    "    \n",
    "    for idx, word_id in enumerate(corpus): # enumerate 내장함수를 이용해 index와 value를 나눈다.\n",
    "        for i in range(1, window_size+1):  # 모든 단어 각각에 대해 윈도우에 포함된 주변 단어 세기 반복\n",
    "            left_idx = idx - i\n",
    "            right_idx = idx + i\n",
    "            \n",
    "            if left_idx >= 0: # corpus의 왼쪽 끝 경계를 벗어나지 않게 처리\n",
    "                left_word_id = corpus[left_idx]\n",
    "                co_matrix[word_id, left_word_id] += 1\n",
    "                \n",
    "            if right_idx < corpus_size: # corpus의 오른쪽 끝 경계를 벗어나지 않게 처리\n",
    "                right_word_id = corpus[right_idx]\n",
    "                co_matrix[word_id, right_word_id] += 1\n",
    "                \n",
    "    return co_matrix"
   ]
  },
  {
   "cell_type": "code",
   "execution_count": 18,
   "id": "ce3297cc",
   "metadata": {},
   "outputs": [],
   "source": [
    "def cos_similarity(x, y, eps=1e-8):\n",
    "    nx = x / np.sqrt(np.sum(x**2)+eps) # x를 정규화\n",
    "    ny = y / np.sqrt(np.sum(y**2)+eps) # y를 정규화\n",
    "    return np.dot(nx,ny) # 벡터의 내적을 반환\n",
    "    # 분모에 0이 들어오면 divide by zero error가 발생함으로 예외처리"
   ]
  },
  {
   "cell_type": "code",
   "execution_count": 19,
   "id": "0b08e3a0",
   "metadata": {},
   "outputs": [
    {
     "data": {
      "text/plain": [
       "0.7071067758832467"
      ]
     },
     "execution_count": 19,
     "metadata": {},
     "output_type": "execute_result"
    }
   ],
   "source": [
    "import sys\n",
    "sys.path.append('..')\n",
    "text = \"You say goodbye and I say hello.\"\n",
    "corpus, word_to_id, id_to_word = preprocess(text)\n",
    "vocab_size = len(word_to_id)\n",
    "C = create_co_matrix(corpus, vocab_size)\n",
    "\n",
    "c0 = C[word_to_id['you']] # you 단어의 벡터\n",
    "c1 = C[word_to_id['i']] # i 단어의 벡터\n",
    "cos_similarity(c0, c1)"
   ]
  },
  {
   "cell_type": "code",
   "execution_count": 23,
   "id": "b35fad88",
   "metadata": {},
   "outputs": [],
   "source": [
    "# 검색어와 비슷한 단어를 유사도 순으로 출력하는 함수 구현\n",
    "# query: 검색어, word_to_id: 단어에서 단어id, id_to_word: id에서 단어, word_matrix: 단어 벡터를 모아놓은 행렬, top: 상위 몇개까지 출력\n",
    "def most_similar(query, word_to_id, id_to_word, word_matrix, top=5):\n",
    "    # 검색어를 꺼낸다\n",
    "    if query not in word_to_id:\n",
    "        print(f'{query}(을)를 찾을 수 없습니다.')\n",
    "        return\n",
    "    \n",
    "    print(f'\\n{[query]}')\n",
    "    query_id = word_to_id[query] # 해당 단어에 해당되는 index를 저장\n",
    "    query_vec = word_matrix[query_id] # 해당 index에 해당하는 단어를 행렬에서 찾아 저장\n",
    "\n",
    "    # cosine similarty 계산\n",
    "    vocab_size = len(id_to_word) # 단어 사이즈는 단어의 개수만큼\n",
    "    similarity = np.zeros(vocab_size) # 행렬 초기화\n",
    "    for i in range(vocab_size):\n",
    "        similarity[i] = cos_similarity(word_matrix[i], query_vec) # 유사도를 계산하여 저장한다\n",
    "        \n",
    "    # 내림차순으로 출력해준다.\n",
    "    count = 0\n",
    "    for i in (-1 * similarity).argsort(): # 내림차순 정렬을 위한 -1을 곱하기\n",
    "        if id_to_word[i] == query: \n",
    "            continue\n",
    "        print(f'{id_to_word[i]},{similarity[i]}')\n",
    "        \n",
    "        count += 1\n",
    "        if count >= top:\n",
    "            return"
   ]
  },
  {
   "cell_type": "code",
   "execution_count": 24,
   "id": "3b2db0ad",
   "metadata": {},
   "outputs": [
    {
     "name": "stdout",
     "output_type": "stream",
     "text": [
      "\n",
      "['you']\n",
      "goodbye,0.7071067758832467\n",
      "i,0.7071067758832467\n",
      "hello,0.7071067758832467\n",
      "say,0.0\n",
      "and,0.0\n"
     ]
    }
   ],
   "source": [
    "text = 'You say goodbye and I say hello.'\n",
    "corpus, word_to_id, id_to_word = preprocess(text)\n",
    "vocab_size = len(word_to_id)\n",
    "C = create_co_matrix(corpus, vocab_size)\n",
    "most_similar('you', word_to_id, id_to_word, C, top=5)"
   ]
  },
  {
   "cell_type": "code",
   "execution_count": 25,
   "id": "b855412c",
   "metadata": {},
   "outputs": [],
   "source": [
    "def ppmi(C, verbose=False, eps=1e-8):\n",
    "    M = np.zeros_like(C, dtype=np.float32)\n",
    "    N = np.sum(C)\n",
    "    S = np.sum(C, axis=0)\n",
    "    total = C.shape[0] * C.shape[1]\n",
    "    cnt = 0\n",
    "    \n",
    "    for i in range(C.shape[0]):\n",
    "        for j in range(C.shape[1]):\n",
    "            pmi = np.log2(C[i, j] * N / (S[j]*S[i]) + eps)\n",
    "            M[i,j] = max(0, pmi)\n",
    "            \n",
    "            if verbose:\n",
    "                cnt += 1\n",
    "                if cnt % (total//100 + 1)  == 0:\n",
    "                    print(f\"(100*cnt/total) 완료\")\n",
    "    return M"
   ]
  },
  {
   "cell_type": "code",
   "execution_count": 26,
   "id": "f96a4100",
   "metadata": {},
   "outputs": [
    {
     "name": "stdout",
     "output_type": "stream",
     "text": [
      "동시발생 행렬\n",
      "[[0 1 0 0 0 0 0 0]\n",
      " [1 0 1 0 1 1 0 0]\n",
      " [0 1 0 1 0 0 0 0]\n",
      " [0 0 1 0 1 0 0 0]\n",
      " [0 1 0 1 0 0 0 0]\n",
      " [0 1 0 0 0 0 1 0]\n",
      " [0 0 0 0 0 1 0 1]\n",
      " [0 0 0 0 0 0 1 0]]\n",
      "--------------------------------------------------\n",
      "PPMI\n",
      "[[0. 2. 0. 0. 0. 0. 0. 0.]\n",
      " [2. 0. 1. 0. 1. 1. 0. 0.]\n",
      " [0. 1. 0. 2. 0. 0. 0. 0.]\n",
      " [0. 0. 2. 0. 2. 0. 0. 0.]\n",
      " [0. 1. 0. 2. 0. 0. 0. 0.]\n",
      " [0. 1. 0. 0. 0. 0. 2. 0.]\n",
      " [0. 0. 0. 0. 0. 2. 0. 3.]\n",
      " [0. 0. 0. 0. 0. 0. 3. 0.]]\n"
     ]
    }
   ],
   "source": [
    "text = 'You say goodbye and I say hello. '\n",
    "corpus, word_to_id, id_to_word = preprocess(text)\n",
    "vocab_size = len(word_to_id)\n",
    "vocab_size = len(word_to_id)\n",
    "C = create_co_matrix(corpus, vocab_size)\n",
    "W = ppmi(C)\n",
    "\n",
    "np.set_printoptions(precision=3)\n",
    "print('동시발생 행렬')\n",
    "print(C)\n",
    "# 동시발생 행렬\n",
    "# [[0 1 0 0 0 0 0 0]\n",
    "#  [1 0 1 0 1 1 0 0]\n",
    "#  [0 1 0 1 0 0 0 0]\n",
    "#  [0 0 1 0 1 0 0 0]\n",
    "#  [0 1 0 1 0 0 0 0]\n",
    "#  [0 1 0 0 0 0 1 0]\n",
    "#  [0 0 0 0 0 1 0 1]\n",
    "#  [0 0 0 0 0 0 1 0]]\n",
    "print('-'*50)\n",
    "print('PPMI')\n",
    "print(W)\n",
    "# PPMI\n",
    "# [[0. 2. 0. 0. 0. 0. 0. 0.]\n",
    "#  [2. 0. 1. 0. 1. 1. 0. 0.]\n",
    "#  [0. 1. 0. 2. 0. 0. 0. 0.]\n",
    "#  [0. 0. 2. 0. 2. 0. 0. 0.]\n",
    "#  [0. 1. 0. 2. 0. 0. 0. 0.]\n",
    "#  [0. 1. 0. 0. 0. 0. 2. 0.]\n",
    "#  [0. 0. 0. 0. 0. 2. 0. 3.]\n",
    "#  [0. 0. 0. 0. 0. 0. 3. 0.]]"
   ]
  },
  {
   "cell_type": "code",
   "execution_count": 27,
   "id": "949d6551",
   "metadata": {},
   "outputs": [
    {
     "name": "stdout",
     "output_type": "stream",
     "text": [
      "[-3.331e-16  2.193e-01 -3.098e-01 -3.331e-16  2.220e-16 -8.417e-01\n",
      "  1.356e-01  3.594e-01]\n"
     ]
    }
   ],
   "source": [
    "# SVD를 코드로 구현\n",
    "import matplotlib.pyplot as plt\n",
    "C = create_co_matrix(corpus, vocab_size, window_size=1)\n",
    "W = ppmi(C)\n",
    "\n",
    "U, S, V = np.linalg.svd(W) # numpy에서 제공하는 linalg 모듈에서 SVD 메서드를 실행할 수 있다. linalg는 linear algebra의 약어다(선형대수)\n",
    "print(U[0]) \n",
    "#   [-3.331e-16  2.193e-01 -3.098e-01 -3.331e-16  2.220e-16 -8.417e-01\n",
    "#   1.356e-01  3.594e-01]"
   ]
  },
  {
   "cell_type": "code",
   "execution_count": 29,
   "id": "5f6ecc8e",
   "metadata": {},
   "outputs": [
    {
     "data": {
      "image/png": "[encoded data removed]",
      "text/plain": [
       "<Figure size 432x288 with 1 Axes>"
      ]
     },
     "metadata": {
      "needs_background": "light"
     },
     "output_type": "display_data"
    }
   ],
   "source": [
    "for word, word_id in word_to_id.items():\n",
    "    plt.annotate(word, (U[word_id, 0], U[word_id, 1]))\n",
    "    \n",
    "plt.scatter(U[:,0], U[:,1], alpha=0.5)\n",
    "plt.show()"
   ]
  },
  {
   "cell_type": "code",
   "execution_count": null,
   "id": "541acf80",
   "metadata": {},
   "outputs": [],
   "source": []
  }
 ],
 "metadata": {
  "kernelspec": {
   "display_name": "Python 3 (ipykernel)",
   "language": "python",
   "name": "python3"
  },
  "language_info": {
   "codemirror_mode": {
    "name": "ipython",
    "version": 3
   },
   "file_extension": ".py",
   "mimetype": "text/x-python",
   "name": "python",
   "nbconvert_exporter": "python",
   "pygments_lexer": "ipython3",
   "version": "3.8.10"
  }
 },
 "nbformat": 4,
 "nbformat_minor": 5
}
