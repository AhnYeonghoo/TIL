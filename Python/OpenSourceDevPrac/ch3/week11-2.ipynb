{
 "cells": [
  {
   "cell_type": "code",
   "execution_count": null,
   "metadata": {},
   "outputs": [],
   "source": [
    "# 라이브러리 불러오기\n",
    "from bs4 import BeautifulSoup\n",
    "import requests\n",
    "import re\n",
    "import pandas as pd\n",
    "\n",
    "# 위키피디아 미국 ETF 웹 페이지에서 필요한 정보를 스크래핑하여 딕셔너리 형태로 변수 etfs에 저장\n",
    "url = \"https://en.wikipedia.org/wiki/List_of_American_exchange-traded_funds\"\n",
    "resp = requests.get(url)\n",
    "soup = BeautifulSoup(resp.text, 'lxml')   \n",
    "rows = soup.select('div > ul > li')\n",
    "    \n",
    "etfs = {}\n",
    "for row in rows:\n",
    "    \n",
    "    try:\n",
    "        etf_name = re.findall('^(.*) \\(NYSE', row.text)\n",
    "        etf_market = re.findall('\\((.*)\\|', row.text)\n",
    "        etf_ticker = re.findall('NYSE Arca\\|(.*)\\)', row.text)\n",
    "        \n",
    "        if (len(etf_ticker) > 0) & (len(etf_market) > 0) & (len(etf_name) > 0):\n",
    "            etfs[etf_ticker[0]] = [etf_market[0], etf_name[0]]\n",
    "\n",
    "    except AttributeError as err:\n",
    "        pass    \n",
    "\n",
    "# etfs 딕셔너리 출력\n",
    "print(etfs)\n",
    "print('\\n')\n",
    "\n",
    "# etfs 딕셔너리를 데이터프레임으로 변환\n",
    "df = pd.DataFrame(etfs)\n",
    "print(df)"
   ]
  },
  {
   "cell_type": "code",
   "execution_count": null,
   "metadata": {},
   "outputs": [],
   "source": [
    "# 라이브러리 불러오기\n",
    "import folium\n",
    "\n",
    "# 서울 지도 만들기\n",
    "seoul_map = folium.Map(location=[37.55,126.98], zoom_start=12)\n",
    "\n",
    "# 지도를 HTML 파일로 저장하기\n",
    "seoul_map.save('./seoul.html')"
   ]
  },
  {
   "cell_type": "code",
   "execution_count": null,
   "metadata": {},
   "outputs": [],
   "source": [
    "# 라이브러리 불러오기\n",
    "import folium\n",
    "\n",
    "# 서울 지도 만들기\n",
    "seoul_map2 = folium.Map(location=[37.55,126.98], tiles='Stamen Terrain', \n",
    "                        zoom_start=12)\n",
    "seoul_map3 = folium.Map(location=[37.55,126.98], tiles='Stamen Toner', \n",
    "                        zoom_start=15)\n",
    "\n",
    "# 지도를 HTML 파일로 저장하기\n",
    "seoul_map2.save('./seoul2.html')\n",
    "seoul_map3.save('./seoul3.html')"
   ]
  },
  {
   "cell_type": "code",
   "execution_count": null,
   "metadata": {},
   "outputs": [],
   "source": [
    "# 라이브러리 불러오기\n",
    "import pandas as pd\n",
    "import folium\n",
    "\n",
    "# 대학교 리스트를 데이터프레임 변환\n",
    "df = pd.read_excel('./서울지역 대학교 위치.xlsx', index_col= 0, engine= 'openpyxl')\n",
    "\n",
    "# 서울 지도 만들기\n",
    "seoul_map = folium.Map(location=[37.55,126.98], tiles='Stamen Terrain', \n",
    "                        zoom_start=12)\n",
    "\n",
    "# 대학교 위치정보를 Marker로 표시\n",
    "for name, lat, lng in zip(df.index, df.위도, df.경도):\n",
    "    folium.Marker([lat, lng], popup=name).add_to(seoul_map)\n",
    "\n",
    "# 지도를 HTML 파일로 저장하기\n",
    "seoul_map.save('./seoul_colleges.html')"
   ]
  },
  {
   "cell_type": "code",
   "execution_count": null,
   "metadata": {},
   "outputs": [],
   "source": [
    "# 라이브러리 불러오기\n",
    "import pandas as pd\n",
    "import folium\n",
    "\n",
    "# 대학교 리스트를 데이터프레임 변환\n",
    "df = pd.read_excel('./서울지역 대학교 위치.xlsx', index_col= 0, engine= 'openpyxl')\n",
    "\n",
    "# 서울 지도 만들기\n",
    "seoul_map = folium.Map(location=[37.55,126.98], tiles='Stamen Terrain', \n",
    "                        zoom_start=12)\n",
    "\n",
    "# 대학교 위치정보를 CircleMarker로 표시\n",
    "for name, lat, lng in zip(df.index, df.위도, df.경도):\n",
    "    folium.CircleMarker([lat, lng],\n",
    "                        radius=10,         # 원의 반지름\n",
    "                        color='brown',         # 원의 둘레 색상\n",
    "                        fill=True,\n",
    "                        fill_color='coral',    # 원을 채우는 색\n",
    "                        fill_opacity=0.7, # 투명도    \n",
    "                        popup=name\n",
    "    ).add_to(seoul_map)\n",
    "\n",
    "# 지도를 HTML 파일로 저장하기\n",
    "seoul_map.save('./seoul_colleges2.html')"
   ]
  },
  {
   "cell_type": "code",
   "execution_count": null,
   "metadata": {},
   "outputs": [],
   "source": [
    "# 라이브러리 불러오기\n",
    "import pandas as pd\n",
    "import folium\n",
    "import json\n",
    "\n",
    "# 경기도 인구변화 데이터를 불러와서 데이터프레임으로 변환\n",
    "file_path = './경기도인구데이터.xlsx'\n",
    "df = pd.read_excel(file_path, index_col='구분', engine= 'openpyxl')  \n",
    "df.columns = df.columns.map(str)\n",
    "\n",
    "# 경기도 시군구 경계 정보를 가진 geo-json 파일 불러오기\n",
    "geo_path = './경기도행정구역경계.json'\n",
    "try:\n",
    "    geo_data = json.load(open(geo_path, encoding='utf-8'))\n",
    "except:\n",
    "    geo_data = json.load(open(geo_path, encoding='utf-8-sig'))\n",
    "\n",
    "# 경기도 지도 만들기\n",
    "g_map = folium.Map(location=[37.5502,126.982], \n",
    "                   tiles='Stamen Terrain', zoom_start=9)\n",
    "\n",
    "# 출력할 연도 선택 (2007 ~ 2017년 중에서 선택)\n",
    "year = '2017'  \n",
    "\n",
    "# Choropleth 클래스로 단계구분도 표시하기\n",
    "folium.Choropleth(geo_data=geo_data,    # 지도 경계\n",
    "                 data = df[year],      # 표시하려는 데이터\n",
    "                 columns = [df.index, df[year]],  # 열 지정\n",
    "                 fill_color='YlOrRd', fill_opacity=0.7, line_opacity=0.3,\n",
    "                 threshold_scale=[10000, 100000, 300000, 500000, 700000],               \n",
    "                 key_on='feature.properties.name',\n",
    "                 ).add_to(g_map)\n",
    "\n",
    "# 지도를 HTML 파일로 저장하기\n",
    "g_map.save('./gyonggi_population_' + year + '.html')"
   ]
  }
 ],
 "metadata": {
  "kernelspec": {
   "display_name": "Python 3.9.13 ('base')",
   "language": "python",
   "name": "python3"
  },
  "language_info": {
   "codemirror_mode": {
    "name": "ipython",
    "version": 3
   },
   "file_extension": ".py",
   "mimetype": "text/x-python",
   "name": "python",
   "nbconvert_exporter": "python",
   "pygments_lexer": "ipython3",
   "version": "3.9.13"
  },
  "orig_nbformat": 4,
  "vscode": {
   "interpreter": {
    "hash": "719cbe6adebc45545244f61349219e8c35e33c0a324defbb147a04e87de66b20"
   }
  }
 },
 "nbformat": 4,
 "nbformat_minor": 2
}
