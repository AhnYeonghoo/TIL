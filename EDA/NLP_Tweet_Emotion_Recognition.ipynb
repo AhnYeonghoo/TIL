{
 "cells": [
  {
   "cell_type": "code",
   "execution_count": 1,
   "id": "24f0201d",
   "metadata": {},
   "outputs": [],
   "source": [
    "import numpy as np\n",
    "import seaborn as sns\n",
    "import pandas as pd\n",
    "import matplotlib.pyplot as plt\n",
    "import nlp\n",
    "import tensorflow as tf\n",
    "import random\n",
    "import os\n",
    "%matplotlib inline\n",
    "\n",
    "def show_history(h):\n",
    "    # 각 손실된 학습의 횟수 모니터링\n",
    "    epochs_trained = len(h.history['loss'])\n",
    "    plt.figure(figsize=(9, 9))\n",
    "    \n",
    "    # 1행 2열의 플로팅\n",
    "    plt.subplot(1, 2, 1)\n",
    "    \n",
    "    # 훈련 데이터\n",
    "    plt.plot(range(0, epochs_trained), h.history.get('accuracy'),\n",
    "            label='Training')\n",
    "    \n",
    "    # 검증 데이터\n",
    "    plt.plot(range(0, epochs_trained), h.history.get('val_accuracy'),\n",
    "            label='Validation')\n",
    "    plt.ylim([0., 1.])\n",
    "    plt.xlabel('Epochs')\n",
    "    plt.ylabel('Accuracy')\n",
    "    plt.legend()\n",
    "    \n",
    "    plt.subplot(1, 2, 2)\n",
    "    \n",
    "    # 훈련 데이터에 대한 손실 플로팅\n",
    "    plt.plot(range(0, epochs_trained), h.history.get('loss'), \n",
    "            label='Training')\n",
    "    \n",
    "    # 검증 데이터에 대한 손실 플로팅\n",
    "    plt.plot(range(0, epochs_trained), h.history.get('val_loss'),\n",
    "            label='Validation')\n",
    "    plt.xlabel('Epochs')\n",
    "    plt.ylabel('Loss')\n",
    "    plt.legend()\n",
    "    plt.show()\n",
    "    \n",
    "    \n",
    "    "
   ]
  },
  {
   "cell_type": "code",
   "execution_count": 2,
   "id": "06b890f7",
   "metadata": {},
   "outputs": [],
   "source": [
    "from sklearn.metrics import confusion_matrix\n",
    "# 혼동 매트릭스 정의\n",
    "\n",
    "def dshow_confusion_matrix(y_true, y_pred, classes):\n",
    "    \n",
    "    cm = confusion_matrix(y_true, y_pred, normalize='true')\n",
    "    \n",
    "    plt.figure(figsize=(9, 9))\n",
    "    sp = plt.subplot(1, 1, 1)\n",
    "    ctx = sp.matshow(cm)\n",
    "    plt.xticks(list(range(0, 6)), labels=classes)\n",
    "    plt.yticks(list(range(0, 6)), labels=classes)\n",
    "    plt.colorbar(ctx)\n",
    "    plt.show()"
   ]
  },
  {
   "cell_type": "code",
   "execution_count": 3,
   "id": "1fb66701",
   "metadata": {},
   "outputs": [],
   "source": [
    "def create_model_checkpoint(model_name, save_path=\"./model_checkpoints\"):\n",
    "    # 모델 저장 파일 경로 생성\n",
    "    \n",
    "    return tf.keras.callbacks.ModelCheckpoint(filepath=os.path.join(\n",
    "    save_path, model_name), monitor=\"val_loss\", verbose=0,\n",
    "                                             save_best_only=True)\n"
   ]
  },
  {
   "cell_type": "code",
   "execution_count": 4,
   "id": "150bcd03",
   "metadata": {},
   "outputs": [
    {
     "data": {
      "application/vnd.jupyter.widget-view+json": {
       "model_id": "1ad0a442e1604e07a64cafb3acb82345",
       "version_major": 2,
       "version_minor": 0
      },
      "text/plain": [
       "Downloading:   0%|          | 0.00/3.41k [00:00<?, ?B/s]"
      ]
     },
     "metadata": {},
     "output_type": "display_data"
    },
    {
     "name": "stderr",
     "output_type": "stream",
     "text": [
      "Using custom data configuration default\n"
     ]
    },
    {
     "name": "stdout",
     "output_type": "stream",
     "text": [
      "Downloading and preparing dataset emotion/default (download: Unknown size, generated: Unknown size, post-processed: Unknown sizetotal: Unknown size) to C:\\Users\\Ahn_YeongHoo\\.cache\\huggingface\\datasets\\emotion\\default\\0.0.0\\84e07cd366f4451464584cdbd4958f512bcaddb1e921341e07298ce8a9ce42f4...\n"
     ]
    },
    {
     "data": {
      "application/vnd.jupyter.widget-view+json": {
       "model_id": "8b16767c45a144b99ffe4d6319c3bcf1",
       "version_major": 2,
       "version_minor": 0
      },
      "text/plain": [
       "Downloading: 0.00B [00:00, ?B/s]"
      ]
     },
     "metadata": {},
     "output_type": "display_data"
    },
    {
     "data": {
      "application/vnd.jupyter.widget-view+json": {
       "model_id": "923d69b96a61422ea13869b3817f6e36",
       "version_major": 2,
       "version_minor": 0
      },
      "text/plain": [
       "Downloading: 0.00B [00:00, ?B/s]"
      ]
     },
     "metadata": {},
     "output_type": "display_data"
    },
    {
     "data": {
      "application/vnd.jupyter.widget-view+json": {
       "model_id": "d35fa9d22111428b86627a4e50b4c6ce",
       "version_major": 2,
       "version_minor": 0
      },
      "text/plain": [
       "Downloading: 0.00B [00:00, ?B/s]"
      ]
     },
     "metadata": {},
     "output_type": "display_data"
    },
    {
     "data": {
      "application/vnd.jupyter.widget-view+json": {
       "model_id": "",
       "version_major": 2,
       "version_minor": 0
      },
      "text/plain": [
       "0 examples [00:00, ? examples/s]"
      ]
     },
     "metadata": {},
     "output_type": "display_data"
    },
    {
     "data": {
      "application/vnd.jupyter.widget-view+json": {
       "model_id": "",
       "version_major": 2,
       "version_minor": 0
      },
      "text/plain": [
       "0 examples [00:00, ? examples/s]"
      ]
     },
     "metadata": {},
     "output_type": "display_data"
    },
    {
     "data": {
      "application/vnd.jupyter.widget-view+json": {
       "model_id": "",
       "version_major": 2,
       "version_minor": 0
      },
      "text/plain": [
       "0 examples [00:00, ? examples/s]"
      ]
     },
     "metadata": {},
     "output_type": "display_data"
    },
    {
     "name": "stdout",
     "output_type": "stream",
     "text": [
      "Dataset emotion downloaded and prepared to C:\\Users\\Ahn_YeongHoo\\.cache\\huggingface\\datasets\\emotion\\default\\0.0.0\\84e07cd366f4451464584cdbd4958f512bcaddb1e921341e07298ce8a9ce42f4. Subsequent calls will reuse this data.\n"
     ]
    }
   ],
   "source": [
    "# 데이터 가져오기\n",
    "data = nlp.load_dataset('emotion')"
   ]
  },
  {
   "cell_type": "code",
   "execution_count": 5,
   "id": "09f1df6e",
   "metadata": {},
   "outputs": [
    {
     "data": {
      "text/plain": [
       "{'train': Dataset(features: {'text': Value(dtype='string', id=None), 'label': Value(dtype='string', id=None)}, num_rows: 16000),\n",
       " 'validation': Dataset(features: {'text': Value(dtype='string', id=None), 'label': Value(dtype='string', id=None)}, num_rows: 2000),\n",
       " 'test': Dataset(features: {'text': Value(dtype='string', id=None), 'label': Value(dtype='string', id=None)}, num_rows: 2000)}"
      ]
     },
     "execution_count": 5,
     "metadata": {},
     "output_type": "execute_result"
    }
   ],
   "source": [
    "data"
   ]
  },
  {
   "cell_type": "code",
   "execution_count": 6,
   "id": "957e6785",
   "metadata": {},
   "outputs": [],
   "source": [
    "train = data['train']\n",
    "val = data['validation']\n",
    "test = data['test']\n"
   ]
  },
  {
   "cell_type": "code",
   "execution_count": 7,
   "id": "edaa6b8e",
   "metadata": {},
   "outputs": [],
   "source": [
    "# 트윗과 라벨 추출 함수 정의\n",
    "def get_tweet_data(data):\n",
    "    tweets=[x['text'] for x in data]\n",
    "    emotions=[x['label'] for x in data]\n",
    "    return tweets, emotions\n"
   ]
  },
  {
   "cell_type": "code",
   "execution_count": 8,
   "id": "baf8b886",
   "metadata": {},
   "outputs": [
    {
     "data": {
      "text/plain": [
       "(['i didnt feel humiliated',\n",
       "  'i can go from feeling so hopeless to so damned hopeful just from being around someone who cares and is awake',\n",
       "  'im grabbing a minute to post i feel greedy wrong',\n",
       "  'i am ever feeling nostalgic about the fireplace i will know that it is still on the property',\n",
       "  'i am feeling grouchy',\n",
       "  'ive been feeling a little burdened lately wasnt sure why that was',\n",
       "  'ive been taking or milligrams or times recommended amount and ive fallen asleep a lot faster but i also feel like so funny',\n",
       "  'i feel as confused about life as a teenager or as jaded as a year old man',\n",
       "  'i have been with petronas for years i feel that petronas has performed well and made a huge profit',\n",
       "  'i feel romantic too'],\n",
       " ['sadness',\n",
       "  'sadness',\n",
       "  'anger',\n",
       "  'love',\n",
       "  'anger',\n",
       "  'sadness',\n",
       "  'surprise',\n",
       "  'fear',\n",
       "  'joy',\n",
       "  'love'])"
      ]
     },
     "execution_count": 8,
     "metadata": {},
     "output_type": "execute_result"
    }
   ],
   "source": [
    "tweets,emotions = get_tweet_data(train)\n",
    "\n",
    "tweets[:10], emotions[:10]"
   ]
  },
  {
   "cell_type": "code",
   "execution_count": 9,
   "id": "023f09d0",
   "metadata": {},
   "outputs": [
    {
     "data": {
      "text/plain": [
       "[[2, 139, 3, 679]]"
      ]
     },
     "execution_count": 9,
     "metadata": {},
     "output_type": "execute_result"
    }
   ],
   "source": [
    "from tensorflow.keras.preprocessing.text import Tokenizer\n",
    "\n",
    "tokenizer = Tokenizer(num_words=10000, oov_token='<out_of_vocal>')\n",
    "tokenizer.fit_on_texts(tweets)\n",
    "\n",
    "tokenizer.texts_to_sequences([tweets[0]])"
   ]
  },
  {
   "cell_type": "code",
   "execution_count": 10,
   "id": "50fd44a1",
   "metadata": {},
   "outputs": [
    {
     "data": {
      "text/plain": [
       "[4, 21, 10, 18, 4, 12, 23, 17, 19, 4]"
      ]
     },
     "execution_count": 10,
     "metadata": {},
     "output_type": "execute_result"
    }
   ],
   "source": [
    "length=[len(t.split(' ')) for t in tweets]\n",
    "length[:10]"
   ]
  },
  {
   "cell_type": "code",
   "execution_count": 11,
   "id": "112e9d9a",
   "metadata": {},
   "outputs": [],
   "source": [
    "# 평귤 길이 계산 함수\n",
    "def get_average(data):\n",
    "    count = 0\n",
    "    d_len = 0\n",
    "    for d in data:\n",
    "        d_len = d_len + len(d.split(' '))\n",
    "        count = count + 1\n",
    "    avg = d_len / count\n",
    "    return avg\n"
   ]
  },
  {
   "cell_type": "code",
   "execution_count": 12,
   "id": "1a08637b",
   "metadata": {},
   "outputs": [
    {
     "data": {
      "text/plain": [
       "19.1663125"
      ]
     },
     "execution_count": 12,
     "metadata": {},
     "output_type": "execute_result"
    }
   ],
   "source": [
    "get_average(tweets)"
   ]
  },
  {
   "cell_type": "code",
   "execution_count": 13,
   "id": "8d498e93",
   "metadata": {},
   "outputs": [
    {
     "data": {
      "text/plain": [
       "(array([  8.,  45., 310., 488., 539., 625., 626., 629., 613., 636., 654.,\n",
       "        655., 608., 622., 609., 603., 559., 535., 530., 510., 452., 430.,\n",
       "        382., 385., 330., 327., 336., 317., 238., 208., 200., 200., 167.,\n",
       "        157., 141., 144., 120., 117., 117.,  88.,  96.,  72.,  66.,  66.,\n",
       "         65.,  52.,  37.,  43.,  30.,  32.,  31.,  26.,  30.,  20.,  23.,\n",
       "         14.,   9.,  10.,   4.,   4.,   4.,   1.,   4.,   1.]),\n",
       " array([ 2.,  3.,  4.,  5.,  6.,  7.,  8.,  9., 10., 11., 12., 13., 14.,\n",
       "        15., 16., 17., 18., 19., 20., 21., 22., 23., 24., 25., 26., 27.,\n",
       "        28., 29., 30., 31., 32., 33., 34., 35., 36., 37., 38., 39., 40.,\n",
       "        41., 42., 43., 44., 45., 46., 47., 48., 49., 50., 51., 52., 53.,\n",
       "        54., 55., 56., 57., 58., 59., 60., 61., 62., 63., 64., 65., 66.]),\n",
       " <BarContainer object of 64 artists>)"
      ]
     },
     "execution_count": 13,
     "metadata": {},
     "output_type": "execute_result"
    },
    {
     "data": {
      "image/png": "[encoded data removed]",
      "text/plain": [
       "<Figure size 432x288 with 1 Axes>"
      ]
     },
     "metadata": {
      "needs_background": "light"
     },
     "output_type": "display_data"
    }
   ],
   "source": [
    "# 평균은 좋은 방법이 아니므로, 히스토그램으로 표현\n",
    "plt.hist(length, bins=len(set(length)))"
   ]
  },
  {
   "cell_type": "code",
   "execution_count": null,
   "id": "069e08a7",
   "metadata": {},
   "outputs": [],
   "source": []
  }
 ],
 "metadata": {
  "kernelspec": {
   "display_name": "Python 3",
   "language": "python",
   "name": "python3"
  },
  "language_info": {
   "codemirror_mode": {
    "name": "ipython",
    "version": 3
   },
   "file_extension": ".py",
   "mimetype": "text/x-python",
   "name": "python",
   "nbconvert_exporter": "python",
   "pygments_lexer": "ipython3",
   "version": "3.8.12"
  }
 },
 "nbformat": 4,
 "nbformat_minor": 5
}
