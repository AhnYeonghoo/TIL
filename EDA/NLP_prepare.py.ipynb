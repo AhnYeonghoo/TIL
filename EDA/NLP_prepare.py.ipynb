{
 "cells": [
  {
   "cell_type": "code",
   "execution_count": 2,
   "id": "b9f8880a",
   "metadata": {},
   "outputs": [
    {
     "name": "stdout",
     "output_type": "stream",
     "text": [
      "시리즈 출력: \n",
      "--------------------\n",
      "피자    17000\n",
      "치킨    18000\n",
      "콜라     1000\n",
      "맥주     5000\n",
      "dtype: int64\n"
     ]
    }
   ],
   "source": [
    "# 시리즈 클래스(1차원 배열)\n",
    "import pandas as pd\n",
    "sr = pd.Series([17000, 18000, 1000, 5000], \n",
    "                index=[\"피자\", \"치킨\", \"콜라\", \"맥주\"])\n",
    "print(\"시리즈 출력: \")\n",
    "print('-'* 20)\n",
    "print(sr)"
   ]
  },
  {
   "cell_type": "code",
   "execution_count": 3,
   "id": "b611d46f",
   "metadata": {},
   "outputs": [
    {
     "name": "stdout",
     "output_type": "stream",
     "text": [
      "시리즈의 값: [17000 18000  1000  5000]\n",
      "시리즈의 인덱스 : Index(['피자', '치킨', '콜라', '맥주'], dtype='object')\n"
     ]
    }
   ],
   "source": [
    "# 값과 인덱스를 출력\n",
    "print(f\"시리즈의 값: {sr.values}\")\n",
    "print(f\"시리즈의 인덱스 : {sr.index}\")"
   ]
  },
  {
   "cell_type": "code",
   "execution_count": 4,
   "id": "0dce872d",
   "metadata": {},
   "outputs": [
    {
     "name": "stdout",
     "output_type": "stream",
     "text": [
      "데이터프레임 출력: \n",
      "--------------------\n",
      "       A  B  C\n",
      "one    1  2  3\n",
      "two    4  5  6\n",
      "three  7  8  9\n"
     ]
    }
   ],
   "source": [
    "# 데이터프레임 클래스(2차원)\n",
    "values = [[1,2,3], [4,5,6], [7,8,9]] # 값(values)\n",
    "index = ['one', 'two', 'three'] # 인덱스(index, 행)\n",
    "columns = ['A', 'B', 'C'] # 열(columns)\n",
    "df = pd.DataFrame(values, index=index, columns=columns)\n",
    "\n",
    "print(\"데이터프레임 출력: \")\n",
    "print(\"-\"*20)\n",
    "print(df)"
   ]
  },
  {
   "cell_type": "code",
   "execution_count": 5,
   "id": "5a062c9d",
   "metadata": {},
   "outputs": [
    {
     "name": "stdout",
     "output_type": "stream",
     "text": [
      "데이터프레임의 인덱스: Index(['one', 'two', 'three'], dtype='object')\n",
      "데이터프레임의 열 이름: Index(['A', 'B', 'C'], dtype='object')\n",
      "데이터 프레임의 값: \n",
      "--------------------\n",
      "[[1 2 3]\n",
      " [4 5 6]\n",
      " [7 8 9]]\n"
     ]
    }
   ],
   "source": [
    "# 생성된 데이터프레임으로부터 index, values, columns 출력\n",
    "print(f\"데이터프레임의 인덱스: {df.index}\")\n",
    "print(f\"데이터프레임의 열 이름: {df.columns}\")\n",
    "print(\"데이터 프레임의 값: \")\n",
    "print('-' * 20)\n",
    "print(df.values)"
   ]
  },
  {
   "cell_type": "code",
   "execution_count": 6,
   "id": "691a7b6f",
   "metadata": {},
   "outputs": [
    {
     "name": "stdout",
     "output_type": "stream",
     "text": [
      "      0         1      2\n",
      "0  1000     Steve  90.72\n",
      "1  1001     James  78.09\n",
      "2  1002    Doyeon  98.43\n",
      "3  1003      Jane  64.19\n",
      "4  1004  Pilwoong  81.30\n",
      "5  1005      Tony  99.14\n"
     ]
    }
   ],
   "source": [
    "# 리스트로 데이터프레임 생성하가\n",
    "data = [\n",
    "    ['1000', 'Steve', 90.72],\n",
    "    ['1001', 'James', 78.09],\n",
    "    ['1002', 'Doyeon', 98.43],\n",
    "    ['1003', 'Jane', 64.19],\n",
    "    ['1004', 'Pilwoong', 81.30],\n",
    "    ['1005', 'Tony', 99.14],\n",
    "]\n",
    "\n",
    "df = pd.DataFrame(data)\n",
    "print(df)"
   ]
  },
  {
   "cell_type": "code",
   "execution_count": 7,
   "id": "157193d1",
   "metadata": {},
   "outputs": [
    {
     "name": "stdout",
     "output_type": "stream",
     "text": [
      "     학번        이름     점수\n",
      "0  1000     Steve  90.72\n",
      "1  1001     James  78.09\n",
      "2  1002    Doyeon  98.43\n",
      "3  1003      Jane  64.19\n",
      "4  1004  Pilwoong  81.30\n",
      "5  1005      Tony  99.14\n"
     ]
    }
   ],
   "source": [
    "# 생성된 데이터프레임에 columns를 지정하기\n",
    "df = pd.DataFrame(data, columns=['학번', '이름', '점수'])\n",
    "print(df)"
   ]
  },
  {
   "cell_type": "code",
   "execution_count": 8,
   "id": "55362b06",
   "metadata": {},
   "outputs": [
    {
     "name": "stdout",
     "output_type": "stream",
     "text": [
      "     학번        이름     점수\n",
      "0  1000     Steve  90.72\n",
      "1  1001     James  78.09\n",
      "2  1002    Doyeon  98.43\n",
      "3  1003      Jane  64.19\n",
      "4  1004  Pilwoong  81.30\n",
      "5  1005      Tony  99.14\n"
     ]
    }
   ],
   "source": [
    "# 딕셔너리로 데이터프레임 생성하기\n",
    "data = {\n",
    "    '학번': ['1000', '1001', '1002', '1003','1004', '1005'],\n",
    "    '이름': ['Steve', 'James', 'Doyeon', 'Jane', 'Pilwoong',\n",
    "          'Tony'],\n",
    "    '점수': [90.72, 78.09, 98.43, 64.19, 81.30, 99.14],\n",
    "}\n",
    "# columns는 학번, 이름, 점수\n",
    "# 각 columns에 대한 row가 value.\n",
    "df = pd.DataFrame(data)\n",
    "print(df)"
   ]
  },
  {
   "cell_type": "code",
   "execution_count": 9,
   "id": "76b00f3e",
   "metadata": {},
   "outputs": [
    {
     "name": "stdout",
     "output_type": "stream",
     "text": [
      "     학번      이름     점수\n",
      "0  1000   Steve  90.72\n",
      "1  1001   James  78.09\n",
      "2  1002  Doyeon  98.43\n"
     ]
    }
   ],
   "source": [
    "# 데이터프레임 조회\n",
    "# 앞 부분 3개만 조회\n",
    "print(df.head(3))"
   ]
  },
  {
   "cell_type": "code",
   "execution_count": 10,
   "id": "6e270da0",
   "metadata": {},
   "outputs": [
    {
     "name": "stdout",
     "output_type": "stream",
     "text": [
      "     학번        이름     점수\n",
      "3  1003      Jane  64.19\n",
      "4  1004  Pilwoong  81.30\n",
      "5  1005      Tony  99.14\n"
     ]
    }
   ],
   "source": [
    "# 뒷 부분 3개만 조회\n",
    "print(df.tail(3))"
   ]
  },
  {
   "cell_type": "code",
   "execution_count": 11,
   "id": "a35e128e",
   "metadata": {},
   "outputs": [
    {
     "name": "stdout",
     "output_type": "stream",
     "text": [
      "0    1000\n",
      "1    1001\n",
      "2    1002\n",
      "3    1003\n",
      "4    1004\n",
      "5    1005\n",
      "Name: 학번, dtype: object\n"
     ]
    }
   ],
   "source": [
    "# 학번에 해당하는 row를 보기\n",
    "print(df['학번'])"
   ]
  },
  {
   "cell_type": "code",
   "execution_count": 13,
   "id": "3b10bf95",
   "metadata": {},
   "outputs": [
    {
     "name": "stdout",
     "output_type": "stream",
     "text": [
      "[1 2 3 4 5]\n"
     ]
    }
   ],
   "source": [
    "# Numpy\n",
    "# 리스트를 이용해 1차원 배열 생성하기\n",
    "import numpy as np\n",
    "vec = np.array([1, 2, 3, 4, 5])\n",
    "print(vec)"
   ]
  },
  {
   "cell_type": "code",
   "execution_count": 14,
   "id": "28adfc07",
   "metadata": {},
   "outputs": [
    {
     "name": "stdout",
     "output_type": "stream",
     "text": [
      "[[10 20 30]\n",
      " [60 70 80]]\n"
     ]
    }
   ],
   "source": [
    "# 2차원 배열 만들기.\n",
    "mat = np.array([[10, 20, 30], [60, 70, 80]])\n",
    "print(mat)"
   ]
  },
  {
   "cell_type": "code",
   "execution_count": 15,
   "id": "719deaed",
   "metadata": {},
   "outputs": [
    {
     "name": "stdout",
     "output_type": "stream",
     "text": [
      "vec의 타입: <class 'numpy.ndarray'>\n",
      "mat의 타입: <class 'numpy.ndarray'>\n"
     ]
    }
   ],
   "source": [
    "print(f'vec의 타입: {type(vec)}')\n",
    "print(f'mat의 타입: {type(mat)}')"
   ]
  },
  {
   "cell_type": "code",
   "execution_count": 16,
   "id": "47330eda",
   "metadata": {},
   "outputs": [
    {
     "name": "stdout",
     "output_type": "stream",
     "text": [
      "vec의 축의 개수 : 1\n",
      "vec의 크기(shape) : (5,)\n"
     ]
    }
   ],
   "source": [
    "# Numpy의 배열에서 축의 개수(ndim)와 크기(shape) 알기\n",
    "print(f'vec의 축의 개수 : {vec.ndim}')\n",
    "print(f'vec의 크기(shape) : {vec.shape}')"
   ]
  },
  {
   "cell_type": "code",
   "execution_count": 17,
   "id": "b584ea15",
   "metadata": {},
   "outputs": [
    {
     "name": "stdout",
     "output_type": "stream",
     "text": [
      "mat의 축의 개수 : 2\n",
      "mat의 크기(shape): (2, 3)\n"
     ]
    }
   ],
   "source": [
    "print(f\"mat의 축의 개수 : {mat.ndim}\")\n",
    "print(f\"mat의 크기(shape): {mat.shape}\")"
   ]
  },
  {
   "cell_type": "code",
   "execution_count": 19,
   "id": "0717472e",
   "metadata": {},
   "outputs": [
    {
     "name": "stdout",
     "output_type": "stream",
     "text": [
      "[[0. 0. 0.]\n",
      " [0. 0. 0.]]\n"
     ]
    }
   ],
   "source": [
    "# ndarray의 초기화\n",
    "# np.zeros()는 배열의 모든 원소에 0을 삽입한다.\n",
    "zero_mat = np.zeros((2, 3)) # 모든 값이 0인 2x3 배열 생성\n",
    "print(zero_mat)\n"
   ]
  },
  {
   "cell_type": "code",
   "execution_count": 21,
   "id": "56a0e307",
   "metadata": {},
   "outputs": [
    {
     "name": "stdout",
     "output_type": "stream",
     "text": [
      "[[1. 1. 1.]\n",
      " [1. 1. 1.]]\n"
     ]
    }
   ],
   "source": [
    "# np.ones()는 배열의 모든 원소에 1을 삽입한다.\n",
    "one_mat = np.ones((2, 3))\n",
    "print(one_mat)"
   ]
  },
  {
   "cell_type": "code",
   "execution_count": 22,
   "id": "f7cc9c4b",
   "metadata": {},
   "outputs": [
    {
     "name": "stdout",
     "output_type": "stream",
     "text": [
      "[[7 7]\n",
      " [7 7]]\n"
     ]
    }
   ],
   "source": [
    "# np.full()은 배열에 사용자가 지정한 값을 삽입한다.\n",
    "same_value_mat = np.full((2, 2), 7)\n",
    "print(same_value_mat)"
   ]
  },
  {
   "cell_type": "code",
   "execution_count": 24,
   "id": "c1ecf9a4",
   "metadata": {},
   "outputs": [
    {
     "name": "stdout",
     "output_type": "stream",
     "text": [
      "[[1. 0. 0.]\n",
      " [0. 1. 0.]\n",
      " [0. 0. 1.]]\n"
     ]
    }
   ],
   "source": [
    "# np.eye()는 대각선으로는 1이고, 나머지는 0인 2차원 배열 생성\n",
    "eye_mat = np.eye(3)\n",
    "print(eye_mat)"
   ]
  },
  {
   "cell_type": "code",
   "execution_count": 25,
   "id": "fb007f59",
   "metadata": {},
   "outputs": [
    {
     "name": "stdout",
     "output_type": "stream",
     "text": [
      "[[0.35602798 0.07286436]\n",
      " [0.80917895 0.09634321]]\n"
     ]
    }
   ],
   "source": [
    "# np.randmon.random()은 임의의 값을 가지는 배열을 생성\n",
    "random_mat = np.random.random((2, 2))\n",
    "print(random_mat)"
   ]
  },
  {
   "cell_type": "code",
   "execution_count": 26,
   "id": "49b5dafa",
   "metadata": {},
   "outputs": [
    {
     "name": "stdout",
     "output_type": "stream",
     "text": [
      "[0 1 2 3 4 5 6 7 8 9]\n"
     ]
    }
   ],
   "source": [
    "# np.arange(n)은 0부터 n-1까지의 값을 가지는 배열을 생성\n",
    "range_vec = np.arange(10)\n",
    "print(range_vec)"
   ]
  },
  {
   "cell_type": "code",
   "execution_count": 27,
   "id": "9f49c8d9",
   "metadata": {},
   "outputs": [
    {
     "name": "stdout",
     "output_type": "stream",
     "text": [
      "[1 3 5 7 9]\n"
     ]
    }
   ],
   "source": [
    "# np.arange(i,j,k)는 i부터 j-1까지 k씩 증가하는 배열을 생성\n",
    "n = 2\n",
    "range_n_step_vec = np.arange(1, 10, n)\n",
    "print(range_n_step_vec)"
   ]
  },
  {
   "cell_type": "code",
   "execution_count": 30,
   "id": "0c98ecef",
   "metadata": {},
   "outputs": [
    {
     "name": "stdout",
     "output_type": "stream",
     "text": [
      "[[ 0  1  2  3  4  5]\n",
      " [ 6  7  8  9 10 11]\n",
      " [12 13 14 15 16 17]\n",
      " [18 19 20 21 22 23]\n",
      " [24 25 26 27 28 29]]\n"
     ]
    }
   ],
   "source": [
    "# np.reshape()은 내부 데이터는 변경하지 않으면서 배열의 구조를 바꾼다\n",
    "# 0부터 29까지의 숫자를 생성하는 arange(30)을 수행 후\n",
    "# 원소의 개수가 30개므로 5행 6열의 행렬로 변경하기\n",
    "reshape_mat = np.array(np.arange(30)).reshape((5, 6))\n",
    "print(reshape_mat)"
   ]
  },
  {
   "cell_type": "code",
   "execution_count": 31,
   "id": "017fee2e",
   "metadata": {},
   "outputs": [
    {
     "name": "stdout",
     "output_type": "stream",
     "text": [
      "[[1 2 3]\n",
      " [4 5 6]]\n"
     ]
    }
   ],
   "source": [
    "# Numpy의 슬라이싱 \n",
    "# ndarray를 통해 만든 다차원 배열은 리스트처럼 슬라이싱 가능\n",
    "mat = np.array([[1, 2, 3], [4, 5, 6]])\n",
    "print(mat)"
   ]
  },
  {
   "cell_type": "code",
   "execution_count": 32,
   "id": "e5c0738d",
   "metadata": {},
   "outputs": [],
   "source": [
    "# 첫 번째 행 출력"
   ]
  },
  {
   "cell_type": "code",
   "execution_count": 33,
   "id": "99987b7c",
   "metadata": {},
   "outputs": [
    {
     "name": "stdout",
     "output_type": "stream",
     "text": [
      "[1 2 3]\n"
     ]
    }
   ],
   "source": [
    "slicing_mat = mat[0, :] # 첫 번째 행의 처음부터 끝까지 열 출력\n",
    "print(slicing_mat)"
   ]
  },
  {
   "cell_type": "code",
   "execution_count": 34,
   "id": "e234e0d6",
   "metadata": {},
   "outputs": [],
   "source": [
    "# 두 번째 열 출력"
   ]
  },
  {
   "cell_type": "code",
   "execution_count": 35,
   "id": "08198c33",
   "metadata": {},
   "outputs": [
    {
     "name": "stdout",
     "output_type": "stream",
     "text": [
      "[2 5]\n"
     ]
    }
   ],
   "source": [
    "slicing_mat = mat[:, 1] # 처음부터 끝까지 행, 두 번째 열\n",
    "print(slicing_mat)"
   ]
  },
  {
   "cell_type": "code",
   "execution_count": 36,
   "id": "343ceeea",
   "metadata": {},
   "outputs": [],
   "source": [
    "# Numpy의 정수 인덱싱"
   ]
  },
  {
   "cell_type": "code",
   "execution_count": 37,
   "id": "156579df",
   "metadata": {},
   "outputs": [
    {
     "name": "stdout",
     "output_type": "stream",
     "text": [
      "[[1 2]\n",
      " [4 5]\n",
      " [7 8]]\n"
     ]
    }
   ],
   "source": [
    "mat = np.array([[1, 2], [4, 5], [7, 8]])\n",
    "print(mat)"
   ]
  },
  {
   "cell_type": "code",
   "execution_count": 40,
   "id": "d759c710",
   "metadata": {},
   "outputs": [
    {
     "name": "stdout",
     "output_type": "stream",
     "text": [
      "4\n"
     ]
    }
   ],
   "source": [
    "# 특정 위치의 원소만 가져오기\n",
    "# 1행 0열의 원소\n",
    "print(mat[1, 0])"
   ]
  },
  {
   "cell_type": "code",
   "execution_count": 41,
   "id": "db8326c9",
   "metadata": {},
   "outputs": [
    {
     "name": "stdout",
     "output_type": "stream",
     "text": [
      "[7 5]\n"
     ]
    }
   ],
   "source": [
    "# mat[[2행, 1행], [0열, 1열]]\n",
    "indexing_mat = mat[[2, 1], [0, 1]]\n",
    "print(indexing_mat)"
   ]
  },
  {
   "cell_type": "code",
   "execution_count": 42,
   "id": "07ef2f60",
   "metadata": {},
   "outputs": [],
   "source": [
    "# Numpy의 연산 "
   ]
  },
  {
   "cell_type": "code",
   "execution_count": 50,
   "id": "34fee238",
   "metadata": {},
   "outputs": [
    {
     "name": "stdout",
     "output_type": "stream",
     "text": [
      "[5 7 9]\n",
      "[-3 -3 -3]\n",
      "[-3 -6 -9]\n",
      "[-3. -3. -3.]\n",
      "[[19 22]\n",
      " [43 50]]\n"
     ]
    }
   ],
   "source": [
    "# Numpy를 사용하면 배열간 연산을 손쉽게 가능\n",
    "# 덧셈,뺄셈,곱셈,나눗셈은 +,-,*,/를 사용하거나\n",
    "# np.add(), np,subtract(), np.multiply(), np.divide()를 이용\n",
    "x = np.array([1, 2, 3])\n",
    "y = np.array([4, 5, 6])\n",
    "\n",
    "# result = np.add(x, y)와 동일\n",
    "result = x + y\n",
    "print(result)\n",
    "\n",
    "# result = np.subtract(x, y)와 동일\n",
    "result = x - y\n",
    "print(result)\n",
    "\n",
    "# result = np.multiply(result, x)와 동일\n",
    "result = result * x\n",
    "print(result)\n",
    "\n",
    "# result = np.divide(result, x)와 동일\n",
    "result = result / x\n",
    "print(result)\n",
    "\n",
    "# *는 요소별 곱이므로 Numpy에서 벡터와 행렬곱 또는 행렬곱을 위해선\n",
    "# dot()을 사용해야 한다.\n",
    "mat1 = np.array([[1, 2], [3, 4]])\n",
    "mat2 = np.array([[5, 6], [7, 8]])\n",
    "mat3 = np.dot(mat1, mat2)\n",
    "print(mat3)\n"
   ]
  },
  {
   "cell_type": "code",
   "execution_count": 52,
   "id": "9467d0f9",
   "metadata": {},
   "outputs": [
    {
     "data": {
      "image/png": "[encoded data removed]",
      "text/plain": [
       "<Figure size 432x288 with 1 Axes>"
      ]
     },
     "metadata": {
      "needs_background": "light"
     },
     "output_type": "display_data"
    }
   ],
   "source": [
    "# Matplotlib\n",
    "import matplotlib.pyplot as plt\n",
    "# 라인 플롯 그리기\n",
    "# plot()은 라인 플롯을 그리는 기능을 수행한다. \n",
    "# x, y축을 기재하고 그림을 표시하는 show()를 사용한다.\n",
    "# 그래프에는 title('제목')을 통해 제목을 지정할 수 있다.\n",
    "plt.title('test')\n",
    "plt.plot([1,2,3,4],[2,4,8,6])\n",
    "plt.show()"
   ]
  },
  {
   "cell_type": "code",
   "execution_count": 53,
   "id": "bd359e1e",
   "metadata": {},
   "outputs": [
    {
     "data": {
      "image/png": "[encoded data removed]",
      "text/plain": [
       "<Figure size 432x288 with 1 Axes>"
      ]
     },
     "metadata": {
      "needs_background": "light"
     },
     "output_type": "display_data"
    }
   ],
   "source": [
    "# 축 레이블 삽입\n",
    "# x,y축에 각각 축이름을 삽입하고 싶다면 xlabel()과 ylabel를\n",
    "# 사용하면 된다.\n",
    "plt.title('test')\n",
    "plt.plot([1,2,3,4],[2,4,8,6])\n",
    "plt.xlabel('hours')\n",
    "plt.ylabel('score')\n",
    "plt.show()"
   ]
  },
  {
   "cell_type": "code",
   "execution_count": 55,
   "id": "1ba6f03e",
   "metadata": {},
   "outputs": [
    {
     "data": {
      "image/png": "[encoded data removed]",
      "text/plain": [
       "<Figure size 432x288 with 1 Axes>"
      ]
     },
     "metadata": {
      "needs_background": "light"
     },
     "output_type": "display_data"
    }
   ],
   "source": [
    "# 라인 추가 및 범례 삽입하기\n",
    "# 다수의 plt()을 하나의 그래프에 나타낼 수 있다.\n",
    "# 또한 각 선이 어떤 데이터를 나타내는지를 보여주기 위해\n",
    "# 범례(legend)를 사용할 수 있다.\n",
    "plt.title('students')\n",
    "plt.plot([1,2,3,4],[2,4,8,6])\n",
    "plt.plot([1.5, 2.5, 3.5, 4.5],[3,5,8,10])\n",
    "plt.xlabel('hours')\n",
    "plt.ylabel('score')\n",
    "plt.legend(['A Student', 'B Student']) # 범례 삽입\n",
    "plt.show()"
   ]
  },
  {
   "cell_type": "code",
   "execution_count": 2,
   "id": "acf84576",
   "metadata": {},
   "outputs": [
    {
     "data": {
      "text/html": [
       "<div>\n",
       "<style scoped>\n",
       "    .dataframe tbody tr th:only-of-type {\n",
       "        vertical-align: middle;\n",
       "    }\n",
       "\n",
       "    .dataframe tbody tr th {\n",
       "        vertical-align: top;\n",
       "    }\n",
       "\n",
       "    .dataframe thead th {\n",
       "        text-align: right;\n",
       "    }\n",
       "</style>\n",
       "<table border=\"1\" class=\"dataframe\">\n",
       "  <thead>\n",
       "    <tr style=\"text-align: right;\">\n",
       "      <th></th>\n",
       "      <th>v1</th>\n",
       "      <th>v2</th>\n",
       "      <th>Unnamed: 2</th>\n",
       "      <th>Unnamed: 3</th>\n",
       "      <th>Unnamed: 4</th>\n",
       "    </tr>\n",
       "  </thead>\n",
       "  <tbody>\n",
       "    <tr>\n",
       "      <th>0</th>\n",
       "      <td>ham</td>\n",
       "      <td>Go until jurong point, crazy.. Available only ...</td>\n",
       "      <td>NaN</td>\n",
       "      <td>NaN</td>\n",
       "      <td>NaN</td>\n",
       "    </tr>\n",
       "    <tr>\n",
       "      <th>1</th>\n",
       "      <td>ham</td>\n",
       "      <td>Ok lar... Joking wif u oni...</td>\n",
       "      <td>NaN</td>\n",
       "      <td>NaN</td>\n",
       "      <td>NaN</td>\n",
       "    </tr>\n",
       "    <tr>\n",
       "      <th>2</th>\n",
       "      <td>spam</td>\n",
       "      <td>Free entry in 2 a wkly comp to win FA Cup fina...</td>\n",
       "      <td>NaN</td>\n",
       "      <td>NaN</td>\n",
       "      <td>NaN</td>\n",
       "    </tr>\n",
       "    <tr>\n",
       "      <th>3</th>\n",
       "      <td>ham</td>\n",
       "      <td>U dun say so early hor... U c already then say...</td>\n",
       "      <td>NaN</td>\n",
       "      <td>NaN</td>\n",
       "      <td>NaN</td>\n",
       "    </tr>\n",
       "    <tr>\n",
       "      <th>4</th>\n",
       "      <td>ham</td>\n",
       "      <td>Nah I don't think he goes to usf, he lives aro...</td>\n",
       "      <td>NaN</td>\n",
       "      <td>NaN</td>\n",
       "      <td>NaN</td>\n",
       "    </tr>\n",
       "  </tbody>\n",
       "</table>\n",
       "</div>"
      ],
      "text/plain": [
       "     v1                                                 v2 Unnamed: 2  \\\n",
       "0   ham  Go until jurong point, crazy.. Available only ...        NaN   \n",
       "1   ham                      Ok lar... Joking wif u oni...        NaN   \n",
       "2  spam  Free entry in 2 a wkly comp to win FA Cup fina...        NaN   \n",
       "3   ham  U dun say so early hor... U c already then say...        NaN   \n",
       "4   ham  Nah I don't think he goes to usf, he lives aro...        NaN   \n",
       "\n",
       "  Unnamed: 3 Unnamed: 4  \n",
       "0        NaN        NaN  \n",
       "1        NaN        NaN  \n",
       "2        NaN        NaN  \n",
       "3        NaN        NaN  \n",
       "4        NaN        NaN  "
      ]
     },
     "execution_count": 2,
     "metadata": {},
     "output_type": "execute_result"
    }
   ],
   "source": [
    "import pandas as pd\n",
    "import pandas_profiling\n",
    "data = pd.read_csv('C:/Users/Ahn_YeongHoo/Desktop/data/spam.csv', encoding='latin1')\n",
    "data[:5]"
   ]
  },
  {
   "cell_type": "code",
   "execution_count": 3,
   "id": "5913fabf",
   "metadata": {},
   "outputs": [],
   "source": [
    "pr = data.profile_report() # 프로파일링 결과 리포트를 저장"
   ]
  },
  {
   "cell_type": "code",
   "execution_count": 4,
   "id": "e36b18d1",
   "metadata": {},
   "outputs": [
    {
     "data": {
      "application/vnd.jupyter.widget-view+json": {
       "model_id": "adb76c8e96a549d6bdbe3008b488aa9a",
       "version_major": 2,
       "version_minor": 0
      },
      "text/plain": [
       "Summarize dataset:   0%|          | 0/5 [00:00<?, ?it/s]"
      ]
     },
     "metadata": {},
     "output_type": "display_data"
    },
    {
     "data": {
      "application/vnd.jupyter.widget-view+json": {
       "model_id": "c27bbfd5dfdd45bcaa056101d0627426",
       "version_major": 2,
       "version_minor": 0
      },
      "text/plain": [
       "Generate report structure:   0%|          | 0/1 [00:00<?, ?it/s]"
      ]
     },
     "metadata": {},
     "output_type": "display_data"
    },
    {
     "data": {
      "application/vnd.jupyter.widget-view+json": {
       "model_id": "c0e2e3bd2726463e89b56417d66b1a6b",
       "version_major": 2,
       "version_minor": 0
      },
      "text/plain": [
       "Render HTML:   0%|          | 0/1 [00:00<?, ?it/s]"
      ]
     },
     "metadata": {},
     "output_type": "display_data"
    },
    {
     "data": {
      "application/vnd.jupyter.widget-view+json": {
       "model_id": "0c4019c40f7843e5974aa49522c00f07",
       "version_major": 2,
       "version_minor": 0
      },
      "text/plain": [
       "Export report to file:   0%|          | 0/1 [00:00<?, ?it/s]"
      ]
     },
     "metadata": {},
     "output_type": "display_data"
    }
   ],
   "source": [
    "pr\n",
    "pr.to_file('./pr_report.html') # html파일로 저장"
   ]
  },
  {
   "cell_type": "code",
   "execution_count": null,
   "id": "0b1f357d",
   "metadata": {},
   "outputs": [],
   "source": []
  }
 ],
 "metadata": {
  "kernelspec": {
   "display_name": "Python 3",
   "language": "python",
   "name": "python3"
  },
  "language_info": {
   "codemirror_mode": {
    "name": "ipython",
    "version": 3
   },
   "file_extension": ".py",
   "mimetype": "text/x-python",
   "name": "python",
   "nbconvert_exporter": "python",
   "pygments_lexer": "ipython3",
   "version": "3.8.12"
  }
 },
 "nbformat": 4,
 "nbformat_minor": 5
}
